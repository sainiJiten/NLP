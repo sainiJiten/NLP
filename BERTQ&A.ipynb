{
  "nbformat": 4,
  "nbformat_minor": 0,
  "metadata": {
    "colab": {
      "name": "BERTQ&A.ipynb",
      "provenance": []
    },
    "kernelspec": {
      "name": "python3",
      "display_name": "Python 3"
    }
  },
  "cells": [
    {
      "cell_type": "code",
      "metadata": {
        "id": "XhWXYqmdMSUS"
      },
      "source": [
        "!pip install transformers"
      ],
      "execution_count": null,
      "outputs": []
    },
    {
      "cell_type": "code",
      "metadata": {
        "id": "AyE11y_XMU6r"
      },
      "source": [
        "import torch\r\n",
        "from transformers import BertForQuestionAnswering\r\n",
        "from transformers import BertTokenizer"
      ],
      "execution_count": null,
      "outputs": []
    },
    {
      "cell_type": "code",
      "metadata": {
        "id": "mqPQyyf2Mn8E"
      },
      "source": [
        "model = BertForQuestionAnswering.from_pretrained('bert-large-uncased-whole-word-masking-finetuned-squad')"
      ],
      "execution_count": null,
      "outputs": []
    },
    {
      "cell_type": "code",
      "metadata": {
        "id": "o0BMeO_iMtzM"
      },
      "source": [
        "tokenizer = BertTokenizer.from_pretrained('bert-large-uncased-whole-word-masking-finetuned-squad')\r\n"
      ],
      "execution_count": null,
      "outputs": []
    },
    {
      "cell_type": "code",
      "metadata": {
        "id": "Jc3xHawpM6v6"
      },
      "source": [
        "question = '''Why is Pi day observed on march 14?\"'''\r\n",
        "\r\n",
        "paragraph = ''' Pi Day is an annual celebration of the mathematical constant π (pi). \r\n",
        "                Pi Day is observed on March 14 (3/14 in the month/day format) since 3, 1, and 4 are the first three significant digits of π. \r\n",
        "                In 2009, the United States House of Representatives supported the designation of Pi Day.\r\n",
        "                UNESCO's 40th General Conference decided Pi Day as the International Day of Mathematics in November 2019. '''\r\n",
        "            \r\n",
        "encoding = tokenizer.encode_plus(text=question,text_pair=paragraph, add_special=True)\r\n",
        "\r\n",
        "inputs = encoding['input_ids']  \r\n",
        "sentence_embedding = encoding['token_type_ids']  \r\n",
        "tokens = tokenizer.convert_ids_to_tokens(inputs) "
      ],
      "execution_count": null,
      "outputs": []
    },
    {
      "cell_type": "code",
      "metadata": {
        "id": "XjqiM9rHNaT1"
      },
      "source": [
        "output = model(input_ids=torch.tensor([inputs]), token_type_ids=torch.tensor([sentence_embedding]))\r\n",
        "start_scores = output.start_logits\r\n",
        "end_scores = output.end_logits"
      ],
      "execution_count": null,
      "outputs": []
    },
    {
      "cell_type": "code",
      "metadata": {
        "id": "Y_jWgf-4OB1t"
      },
      "source": [
        "start_index = torch.argmax(start_scores)\r\n",
        "\r\n",
        "end_index = torch.argmax(end_scores)\r\n",
        "\r\n",
        "answer = ' '.join(tokens[start_index:end_index+1])"
      ],
      "execution_count": null,
      "outputs": []
    },
    {
      "cell_type": "code",
      "metadata": {
        "colab": {
          "base_uri": "https://localhost:8080/"
        },
        "id": "uAnRcN0eOHU6",
        "outputId": "c439acac-1590-407b-a886-306962bfd05b"
      },
      "source": [
        "print(answer)"
      ],
      "execution_count": null,
      "outputs": [
        {
          "output_type": "stream",
          "text": [
            "since 3 , 1 , and 4 are the first three significant digits of π\n"
          ],
          "name": "stdout"
        }
      ]
    },
    {
      "cell_type": "code",
      "metadata": {
        "colab": {
          "base_uri": "https://localhost:8080/"
        },
        "id": "qmfgmIFrP0vI",
        "outputId": "f445610d-7cf8-473a-8277-6384d5632914"
      },
      "source": [
        "clean_answer = ''\r\n",
        "for word in answer.split():\r\n",
        "    if word[0:2] == '##':\r\n",
        "        clean_answer += word[2:]\r\n",
        "    else:\r\n",
        "        clean_answer += ' ' + word\r\n",
        "print(clean_answer)"
      ],
      "execution_count": null,
      "outputs": [
        {
          "output_type": "stream",
          "text": [
            " since 3 , 1 , and 4 are the first three significant digits of π\n"
          ],
          "name": "stdout"
        }
      ]
    }
  ]
}